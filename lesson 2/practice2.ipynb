{
 "cells": [
  {
   "cell_type": "markdown",
   "metadata": {},
   "source": [
    "# Python 第二次授课练习 示例"
   ]
  },
  {
   "cell_type": "code",
   "execution_count": 438,
   "metadata": {},
   "outputs": [],
   "source": [
    "def gcd(x1, x2):\n",
    "    assert(type(x1)==int and type(x2)==int)\n",
    "    a = max(x1, x2)\n",
    "    i = min(x1, x2)  \n",
    "    res = a % i\n",
    "    while res != 0:\n",
    "        a = i\n",
    "        i = res\n",
    "        res = a % i\n",
    "        pass\n",
    "    return i"
   ]
  },
  {
   "cell_type": "code",
   "execution_count": 439,
   "metadata": {},
   "outputs": [],
   "source": [
    "def lcm(x1, x2):\n",
    "    assert(type(x1)==int and type(x2)==int and x1>0 and x2>0)\n",
    "    def find_prime(lower, upper):\n",
    "        assert(lower<=upper and type(lower)==int and type(upper)==int)\n",
    "        primes = []\n",
    "        if upper < 2:\n",
    "            return primes\n",
    "        if lower <= 2:\n",
    "            lower = 3\n",
    "            primes.append(2)\n",
    "            pass\n",
    "        if lower % 2 == 0:\n",
    "            lower += 1\n",
    "            pass\n",
    "        numbers = [var for var in range(lower, upper+1, 2)]\n",
    "        primes += numbers\n",
    "        for n in numbers:\n",
    "            u = int(n**0.5)\n",
    "            for i in range(2, u+1):\n",
    "                if n%i == 0:\n",
    "                    primes.remove(n)\n",
    "                    break\n",
    "                pass\n",
    "            pass\n",
    "        return primes\n",
    "    p = find_prime(1, x1)\n",
    "    p1 = []\n",
    "    while x1 != 1:\n",
    "        for i in p:\n",
    "            if x1>=i and x1%i==0:\n",
    "                x1 = x1 / i\n",
    "                p1.append(i)\n",
    "                break\n",
    "            pass\n",
    "        pass\n",
    "    p = find_prime(1, x2)\n",
    "    p2 = []\n",
    "    while x2 != 1:\n",
    "        for i in p:\n",
    "            if x2>=i and x2%i==0:\n",
    "                x2 = x2 / i\n",
    "                p2.append(i)\n",
    "                break\n",
    "            pass\n",
    "        pass\n",
    "    for p in p1:\n",
    "        try:\n",
    "            p2.remove(p)\n",
    "            pass\n",
    "        except:\n",
    "            pass\n",
    "        pass\n",
    "    ps = p1 + p2\n",
    "    lcm = 1\n",
    "    for p in ps:\n",
    "        lcm *= p\n",
    "        pass\n",
    "    return lcm"
   ]
  },
  {
   "cell_type": "code",
   "execution_count": 440,
   "metadata": {},
   "outputs": [
    {
     "data": {
      "text/plain": [
       "8"
      ]
     },
     "execution_count": 440,
     "metadata": {},
     "output_type": "execute_result"
    }
   ],
   "source": [
    "gcd(4096, 83768)"
   ]
  },
  {
   "cell_type": "code",
   "execution_count": 441,
   "metadata": {},
   "outputs": [
    {
     "data": {
      "text/plain": [
       "15264040"
      ]
     },
     "execution_count": 441,
     "metadata": {},
     "output_type": "execute_result"
    }
   ],
   "source": [
    "lcm(24860, 2456)"
   ]
  },
  {
   "cell_type": "code",
   "execution_count": 442,
   "metadata": {},
   "outputs": [],
   "source": [
    "import numpy as np\n",
    "\n",
    "np.random.seed(1)\n",
    "\n",
    "A = np.random.randn(5, 12).tolist()\n",
    "B = np.random.randn(12, 5).tolist()"
   ]
  },
  {
   "cell_type": "code",
   "execution_count": 443,
   "metadata": {},
   "outputs": [],
   "source": [
    "def dot(A, B):\n",
    "    assert(len(A[0])==len(B))\n",
    "    out = []\n",
    "    for am in range(len(A)):\n",
    "        out.append([])\n",
    "        for bn in range(len(B[0])):\n",
    "            element = []\n",
    "            for an in range(len(A[0])):\n",
    "                element.append(A[am][an]*B[an][bn])        \n",
    "                pass  \n",
    "            out[am].append(sum(element))\n",
    "            pass\n",
    "        pass\n",
    "    return out"
   ]
  },
  {
   "cell_type": "code",
   "execution_count": 444,
   "metadata": {},
   "outputs": [],
   "source": [
    "out = np.array(dot(A, B))\n",
    "out2 = np.dot(A, B)"
   ]
  },
  {
   "cell_type": "code",
   "execution_count": 445,
   "metadata": {},
   "outputs": [
    {
     "data": {
      "text/plain": [
       "array([[ 3.8309863 ,  4.63893372,  2.46743667, -6.41014913, -2.24416485],\n",
       "       [-0.3226779 , -0.87821805, -3.41719607, -1.73840665,  1.06146804],\n",
       "       [ 1.80700552, -1.26852173, -0.99770173, -1.06346994,  1.10344378],\n",
       "       [-7.04908918, -2.71620576, -1.95753733,  4.10242462,  0.88983189],\n",
       "       [-1.62221129,  2.80132307, -1.22302963,  1.75101791, -1.70321712]])"
      ]
     },
     "execution_count": 445,
     "metadata": {},
     "output_type": "execute_result"
    }
   ],
   "source": [
    "out"
   ]
  },
  {
   "cell_type": "code",
   "execution_count": 446,
   "metadata": {},
   "outputs": [
    {
     "data": {
      "text/plain": [
       "array([[ 3.8309863 ,  4.63893372,  2.46743667, -6.41014913, -2.24416485],\n",
       "       [-0.3226779 , -0.87821805, -3.41719607, -1.73840665,  1.06146804],\n",
       "       [ 1.80700552, -1.26852173, -0.99770173, -1.06346994,  1.10344378],\n",
       "       [-7.04908918, -2.71620576, -1.95753733,  4.10242462,  0.88983189],\n",
       "       [-1.62221129,  2.80132307, -1.22302963,  1.75101791, -1.70321712]])"
      ]
     },
     "execution_count": 446,
     "metadata": {},
     "output_type": "execute_result"
    }
   ],
   "source": [
    "out2"
   ]
  },
  {
   "cell_type": "code",
   "execution_count": null,
   "metadata": {},
   "outputs": [],
   "source": []
  }
 ],
 "metadata": {
  "kernelspec": {
   "display_name": "Python 3",
   "language": "python",
   "name": "python3"
  },
  "language_info": {
   "codemirror_mode": {
    "name": "ipython",
    "version": 3
   },
   "file_extension": ".py",
   "mimetype": "text/x-python",
   "name": "python",
   "nbconvert_exporter": "python",
   "pygments_lexer": "ipython3",
   "version": "3.6.5"
  }
 },
 "nbformat": 4,
 "nbformat_minor": 2
}
